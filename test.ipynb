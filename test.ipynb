{
 "cells": [
  {
   "cell_type": "code",
   "execution_count": 1,
   "id": "c4a56836-cfa6-445b-aa9c-f1af720ccfa8",
   "metadata": {},
   "outputs": [
    {
     "name": "stderr",
     "output_type": "stream",
     "text": [
      "No sentence-transformers model found with name /Users/acdong/.cache/torch/sentence_transformers/Huffon_sentence-klue-roberta-base. Creating a new one with MEAN pooling.\n"
     ]
    }
   ],
   "source": [
    "import pandas as pd\n",
    "import numpy as np\n",
    "import json\n",
    "import faiss\n",
    "from datetime import datetime\n",
    "import random\n",
    "from sentence_transformers import SentenceTransformer , util\n",
    "\n",
    "import mysql.connector.pooling\n",
    "\n",
    "#MySQL DB 연결\n",
    "with open('./config/db_config.json','r') as f:\n",
    "    dbconfig = json.load(f)\n",
    "    \n",
    "cnxpool = mysql.connector.pooling.MySQLConnectionPool(pool_name = 'mypool',\n",
    "                                                      pool_size = 3,\n",
    "                                                      pool_reset_session=True,\n",
    "                                                      **dbconfig) \n",
    "\n",
    "qestion_embedder = SentenceTransformer(\"Huffon/sentence-klue-roberta-base\")\n",
    "index = faiss.read_index(\"./faiss/sts.index\")"
   ]
  },
  {
   "cell_type": "code",
   "execution_count": 16,
   "id": "d77b7aab-3adf-45ad-ae43-b01a12df97d2",
   "metadata": {},
   "outputs": [
    {
     "ename": "SyntaxError",
     "evalue": "invalid syntax (159353927.py, line 1)",
     "output_type": "error",
     "traceback": [
      "\u001b[0;36m  File \u001b[0;32m\"/var/folders/9q/6gc_1qhx1pj3zm93fp22l0140000gn/T/ipykernel_86071/159353927.py\"\u001b[0;36m, line \u001b[0;32m1\u001b[0m\n\u001b[0;31m    def chatbot_answer(query : str -> str):\u001b[0m\n\u001b[0m                                   ^\u001b[0m\n\u001b[0;31mSyntaxError\u001b[0m\u001b[0;31m:\u001b[0m invalid syntax\n"
     ]
    }
   ],
   "source": [
    "def chatbot_answer(query : str ) -> str :\n",
    "    \n",
    "    #----------------------------#\n",
    "    # Retrieval part             #\n",
    "    #----------------------------#\n",
    "    qestion_embedding = qestion_embedder.encode(query, normalize_embeddings=True,convert_to_tensor=True)\n",
    "    distances, indices = index.search(np.expand_dims(qestion_embedding,axis=0),3)\n",
    "    \n",
    "    #max distance 가 0.5가 안넘으면 무슨말인지 모르겠어요 하고 NoSQL에 축적\n",
    "    if np.min(distances[0]) > 0.6:\n",
    "        #----NoSQL로 전송-------#\n",
    "        #print(np.max(distances[0]))\n",
    "        return \"무슨 말인지 잘 모르겠어요 다시 한 번 말씀해주시겠어요??\"\n",
    "    \n",
    "    index_q = [i[1] for i in zip(distances[0],indices[0]) if i[0] <= 0.6]\n",
    "    index_q = list(map(lambda x : x+1, index_q))\n",
    "    index_q = str(index_q).replace('[','(').replace(']',')')\n",
    "    \n",
    "    # MySQL DB에서 임베딩 벡터를 검색 Bi-Encoder\n",
    "    cnx = cnxpool.get_connection()\n",
    "    cursor = cnx.cursor(dictionary=True)\n",
    "    \n",
    "    sql = f\"\"\"SELECT `index` , user, system FROM chatbot WHERE `index` IN {index_q};\"\"\"\n",
    "    cursor.execute(sql)\n",
    "    res = cursor.fetchall()\n",
    "\n",
    "    cnx.close()\n",
    "    cursor.close()\n",
    "    \n",
    "    temp = pd.DataFrame(res)\n",
    "    \n",
    "    return temp.loc[random.randint(0,2)].system"
   ]
  },
  {
   "cell_type": "code",
   "execution_count": 15,
   "id": "3db70b7d-fc99-4ca0-94d6-124155212930",
   "metadata": {},
   "outputs": [
    {
     "data": {
      "text/plain": [
       "'후회할 것 같다면 늦지 않게 연락해보세요.'"
      ]
     },
     "execution_count": 15,
     "metadata": {},
     "output_type": "execute_result"
    }
   ],
   "source": [
    "chatbot_answer(\"헤어진 남자친구가 너무 보고싶다\")"
   ]
  },
  {
   "cell_type": "code",
   "execution_count": null,
   "id": "9b9b27a6-c91e-4b77-b04b-b6c16179ee97",
   "metadata": {},
   "outputs": [],
   "source": []
  },
  {
   "cell_type": "code",
   "execution_count": null,
   "id": "7e88dd40-de79-4d96-a195-a5d66045a8d2",
   "metadata": {},
   "outputs": [],
   "source": []
  }
 ],
 "metadata": {
  "kernelspec": {
   "display_name": "Python 3 (ipykernel)",
   "language": "python",
   "name": "python3"
  },
  "language_info": {
   "codemirror_mode": {
    "name": "ipython",
    "version": 3
   },
   "file_extension": ".py",
   "mimetype": "text/x-python",
   "name": "python",
   "nbconvert_exporter": "python",
   "pygments_lexer": "ipython3",
   "version": "3.8.12"
  }
 },
 "nbformat": 4,
 "nbformat_minor": 5
}
